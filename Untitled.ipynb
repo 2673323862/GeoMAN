{
 "cells": [
  {
   "cell_type": "code",
   "execution_count": 1,
   "metadata": {},
   "outputs": [
    {
     "name": "stderr",
     "output_type": "stream",
     "text": [
      "d:\\ProgramData\\Anaconda3\\lib\\site-packages\\h5py\\__init__.py:34: FutureWarning: Conversion of the second argument of issubdtype from `float` to `np.floating` is deprecated. In future, it will be treated as `np.float64 == np.dtype(float).type`.\n",
      "  from ._conv import register_converters as _register_converters\n"
     ]
    }
   ],
   "source": [
    "import tensorflow as tf\n",
    "import numpy as np\n",
    "import pandas as pd\n",
    "from matplotlib import pyplot as plt\n",
    "import os\n",
    "import json\n",
    "import math\n",
    "import pickle\n",
    "from utils import load_data\n",
    "from utils import load_global_inputs\n",
    "from utils import basic_hyperparams\n",
    "from GeoMAN import GeoMAN\n",
    "from utils import get_batch_feed_dict\n",
    "from utils import shuffle_data\n",
    "from utils import get_valid_batch_feed_dict\n",
    "%matplotlib inline"
   ]
  },
  {
   "cell_type": "code",
   "execution_count": 2,
   "metadata": {},
   "outputs": [
    {
     "name": "stdout",
     "output_type": "stream",
     "text": [
      "[('dropout_rate', 0.3), ('ext_flag', True), ('gc_rate', 2.5), ('gpu_id', '0'), ('lambda_l2_reg', 0.001), ('learning_rate', 0.001), ('n_external_input', 83), ('n_hidden_decoder', 128), ('n_hidden_encoder', 128), ('n_input_decoder', 1), ('n_input_encoder', 19), ('n_output_decoder', 1), ('n_sensors', 35), ('n_stacked_layers', 2), ('n_steps_decoder', 6), ('n_steps_encoder', 12), ('s_attn_flag', 2)]\n"
     ]
    }
   ],
   "source": [
    "# load hyperparameters\n",
    "hps = basic_hyperparams()\n",
    "hps_dict = json.load(open('./hparam_files/AirQualityGeoMan.json', 'r'))\n",
    "hps.override_from_dict(hps_dict)\n",
    "print(hps)"
   ]
  },
  {
   "cell_type": "code",
   "execution_count": 13,
   "metadata": {},
   "outputs": [
    {
     "name": "stdout",
     "output_type": "stream",
     "text": [
      "train samples: 100\n",
      "eval samples: 100\n"
     ]
    }
   ],
   "source": [
    "# read data from different sets\n",
    "input_path = './sample_data/'\n",
    "training_data = load_data(\n",
    "    input_path, 'train', hps.n_steps_encoder, hps.n_steps_decoder)\n",
    "valid_data = load_data(\n",
    "    input_path, 'eval', hps.n_steps_encoder, hps.n_steps_decoder)\n",
    "global_inputs, global_attn_states = load_global_inputs(\n",
    "    input_path, hps.n_steps_encoder, hps.n_steps_decoder)\n",
    "# print dataset info\n",
    "num_train = len(training_data[0])\n",
    "num_valid = len(valid_data[0])\n",
    "print('train samples: {0}'.format(num_train))\n",
    "print('eval samples: {0}'.format(num_valid))"
   ]
  },
  {
   "cell_type": "code",
   "execution_count": 14,
   "metadata": {},
   "outputs": [
    {
     "name": "stdout",
     "output_type": "stream",
     "text": [
      "(100, 12, 19)\n",
      "(100,)\n",
      "(100,)\n",
      "(100, 6, 83)\n",
      "(100, 6)\n"
     ]
    }
   ],
   "source": [
    "samples_training_data = []\n",
    "for i in range(len(training_data)):\n",
    "    samples_training_data.append(training_data[i][:100])\n",
    "\n",
    "samples_valid_data = []\n",
    "for i in range(len(training_data)):\n",
    "    samples_valid_data.append(valid_data[i][:100])\n",
    "\n",
    "samples_global_inputs = global_inputs[:100]\n",
    "samples_global_attn_states = global_attn_states[:100]\n",
    "\n",
    "for i in samples_training_data:\n",
    "    print(i.shape)\n",
    "    "
   ]
  },
  {
   "cell_type": "code",
   "execution_count": 5,
   "metadata": {},
   "outputs": [],
   "source": [
    "np.save('./sample_data/GeoMAN-12-6-train-local_inputs.npy', samples_training_data[0])\n",
    "np.save('./sample_data/GeoMAN-12-6-train-global_attn_state_indics.npy', samples_training_data[1])\n",
    "np.save('./sample_data/GeoMAN-12-6-train-global_input_indics.npy', samples_training_data[2])\n",
    "np.save( './sample_data/GeoMAN-12-6-train-external_inputs.npy', samples_training_data[3])\n",
    "np.save('./sample_data/GeoMAN-12-6-train-decoder_gts.npy', samples_training_data[4])"
   ]
  },
  {
   "cell_type": "code",
   "execution_count": 6,
   "metadata": {},
   "outputs": [],
   "source": [
    "np.save('./sample_data/GeoMAN-12-6-eval-local_inputs.npy', samples_valid_data[0])\n",
    "np.save('./sample_data/GeoMAN-12-6-eval-global_attn_state_indics.npy', samples_valid_data[1])\n",
    "np.save('./sample_data/GeoMAN-12-6-eval-global_input_indics.npy', samples_valid_data[2])\n",
    "np.save('./sample_data/GeoMAN-12-6-eval-external_inputs.npy', samples_valid_data[3])\n",
    "np.save('./sample_data/GeoMAN-12-6-eval-decoder_gts.npy', samples_valid_data[4])"
   ]
  },
  {
   "cell_type": "code",
   "execution_count": 7,
   "metadata": {
    "collapsed": true
   },
   "outputs": [],
   "source": [
    "np.save('./sample_data/GeoMAN-12-6-global_inputs.npy', samples_global_inputs)\n",
    "np.save('./sample_data/GeoMAN-12-6-global_attn_state.npy', samples_global_attn_states)"
   ]
  },
  {
   "cell_type": "markdown",
   "metadata": {},
   "source": [
    "## test"
   ]
  },
  {
   "cell_type": "code",
   "execution_count": 16,
   "metadata": {},
   "outputs": [
    {
     "name": "stdout",
     "output_type": "stream",
     "text": [
      "test samples: 100\n",
      "(100, 12, 19)\n",
      "(100,)\n",
      "(100,)\n",
      "(100, 6, 83)\n",
      "(100, 6)\n"
     ]
    }
   ],
   "source": [
    "# read data from different sets\n",
    "input_path = './sample_data/'\n",
    "test_data = load_data(\n",
    "    input_path, 'test', hps.n_steps_encoder, hps.n_steps_decoder)\n",
    "global_inputs, global_attn_states = load_global_inputs(\n",
    "    input_path, hps.n_steps_encoder, hps.n_steps_decoder)\n",
    "# print dataset info\n",
    "num_test = len(test_data[0])\n",
    "print('test samples: {0}'.format(num_test))\n",
    "\n",
    "for i in samples_test_data:\n",
    "    print(i.shape)"
   ]
  },
  {
   "cell_type": "code",
   "execution_count": 10,
   "metadata": {
    "collapsed": true
   },
   "outputs": [],
   "source": [
    "samples_test_data = []\n",
    "for i in range(len(test_data)):\n",
    "    samples_test_data.append(test_data[i][:100])\n",
    "\n",
    "samples_global_inputs = global_inputs[:100]\n",
    "samples_global_attn_states = global_attn_states[:100]\n",
    "    "
   ]
  },
  {
   "cell_type": "code",
   "execution_count": 11,
   "metadata": {
    "collapsed": true
   },
   "outputs": [],
   "source": [
    "np.save('./sample_data/GeoMAN-12-6-test-local_inputs.npy', samples_test_data[0])\n",
    "np.save('./sample_data/GeoMAN-12-6-test-global_attn_state_indics.npy', samples_test_data[1])\n",
    "np.save('./sample_data/GeoMAN-12-6-test-global_input_indics.npy', samples_test_data[2])\n",
    "np.save( './sample_data/GeoMAN-12-6-test-external_inputs.npy', samples_test_data[3])\n",
    "np.save('./sample_data/GeoMAN-12-6-test-decoder_gts.npy', samples_test_data[4])"
   ]
  },
  {
   "cell_type": "code",
   "execution_count": 12,
   "metadata": {},
   "outputs": [
    {
     "name": "stdout",
     "output_type": "stream",
     "text": [
      "test samples: 100\n"
     ]
    }
   ],
   "source": [
    "# read data from different sets\n",
    "input_path = './sample_data/'\n",
    "test_data = load_data(\n",
    "    input_path, 'test', hps.n_steps_encoder, hps.n_steps_decoder)\n",
    "global_inputs, global_attn_states = load_global_inputs(\n",
    "    input_path, hps.n_steps_encoder, hps.n_steps_decoder)\n",
    "# print dataset info\n",
    "num_test = len(test_data[0])\n",
    "print('test samples: {0}'.format(num_test))"
   ]
  },
  {
   "cell_type": "code",
   "execution_count": null,
   "metadata": {
    "collapsed": true
   },
   "outputs": [],
   "source": []
  }
 ],
 "metadata": {
  "kernelspec": {
   "display_name": "Python 3",
   "language": "python",
   "name": "python3"
  },
  "language_info": {
   "codemirror_mode": {
    "name": "ipython",
    "version": 3
   },
   "file_extension": ".py",
   "mimetype": "text/x-python",
   "name": "python",
   "nbconvert_exporter": "python",
   "pygments_lexer": "ipython3",
   "version": "3.6.3"
  }
 },
 "nbformat": 4,
 "nbformat_minor": 2
}
